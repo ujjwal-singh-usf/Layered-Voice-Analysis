{
 "cells": [
  {
   "cell_type": "markdown",
   "metadata": {},
   "source": [
    "### importing packages"
   ]
  },
  {
   "cell_type": "code",
   "execution_count": 1,
   "metadata": {},
   "outputs": [],
   "source": [
    "import os\n",
    "import pandas as pd\n",
    "import numpy as np\n",
    "import glob\n",
    "import re\n",
    "import shutil\n",
    "import bz2\n",
    "import pickle\n",
    "pd.options.display.max_columns = 200"
   ]
  },
  {
   "cell_type": "markdown",
   "metadata": {},
   "source": [
    "### Read data in chunks"
   ]
  },
  {
   "cell_type": "code",
   "execution_count": 2,
   "metadata": {},
   "outputs": [],
   "source": [
    "## loading the video extract\n",
    "video = pd.read_csv(r\"C:\\Users\\ujjwa\\Downloads\\Independent Study - Python Codes\\video_file.csv\")\n",
    "video.rename(columns = {'timestampmsec': 'time', 'videonum':'video_id'}, inplace=True)"
   ]
  },
  {
   "cell_type": "code",
   "execution_count": null,
   "metadata": {},
   "outputs": [],
   "source": [
    "## Loading data in chunks\n",
    "os.chdir(r\"C:\\Ujjwal Documents\\Courses Fall 2018\\Independent Study\\Final Independent Study Docs\\Kickstarter Project\\Video_Audio files\\video_audio_merged_final\")\n",
    "chunk = 1000000\n",
    "#path = r'C:\\Users\\Ujjwal Singh\\Desktop\\Pandas\\Customers_10000.csv'\n",
    "chunk_data = pd.read_csv('audio_video_output_cmd.csv', encoding='ISO-8859-1', chunksize=chunk, low_memory=False)\n",
    "#data = next(chunk_data)\n",
    "\n",
    "## Aggregating all the chunks of data\n",
    "for chunks in range(0,1000):\n",
    "    if(chunks==0):\n",
    "        data = next(chunk_data)\n",
    "    else:\n",
    "        try:\n",
    "            data = data.append(next(chunk_data))\n",
    "        except StopIteration:\n",
    "            break"
   ]
  },
  {
   "cell_type": "markdown",
   "metadata": {},
   "source": [
    "### Merge LVA audio file"
   ]
  },
  {
   "cell_type": "code",
   "execution_count": null,
   "metadata": {},
   "outputs": [],
   "source": [
    "## identify folders with different files\n",
    "os.chdir(r\"C:\\Ujjwal Documents\\Courses Fall 2018\\Independent Study\\ffmpeg\")\n",
    "## Get the list of folders\n",
    "i=6\n",
    "dir_list = []\n",
    "for d in glob.glob('analysis*'):\n",
    "    i+=1\n",
    "    if(i<9):\n",
    "        dir_list.append(d)\n",
    "        print(dir_list)"
   ]
  },
  {
   "cell_type": "code",
   "execution_count": null,
   "metadata": {},
   "outputs": [],
   "source": [
    "mainDF=pd.DataFrame()\n",
    "for i in range(0,len(dir_list)):\n",
    "    os.chdir(r\"C:\\Ujjwal Documents\\Courses Fall 2018\\Independent Study\\ffmpeg\")\n",
    "    os.chdir(os.getcwd()+\"\\\\\"+dir_list[i])\n",
    "    print(os.getcwd())\n",
    "    for file in (glob.glob('*PARMS.csv')):\n",
    "        data = pd.read_csv(file,delimiter=';')\n",
    "        mainDF = pd.concat([mainDF,data], sort=False)"
   ]
  },
  {
   "cell_type": "code",
   "execution_count": null,
   "metadata": {},
   "outputs": [],
   "source": [
    "## Extracting audio from audio file name.\n",
    "z = re.sub(r'[^0-9]', '', r\"C:\\Ujjwal Documents\\Courses Fall 2018\\Independent Study\\ffmpeg\\analysis 1\\video-223946-h264_high_(new).wav\")\n",
    "z[5:11]\n",
    "\n",
    "## Function to extract ID from file path\n",
    "def clean(x):\n",
    "    y = re.sub(r'[^0-9]', '', 'r'+x)\n",
    "    return(y[5:11])"
   ]
  },
  {
   "cell_type": "code",
   "execution_count": null,
   "metadata": {},
   "outputs": [],
   "source": [
    "## cleaning column names and remove spaces.\n",
    "for i in audio.columns:\n",
    "    x = re.sub(r'[^A-Za-z0-9]','', i)\n",
    "    audio.rename(columns = {i: x}, inplace=True)"
   ]
  },
  {
   "cell_type": "code",
   "execution_count": null,
   "metadata": {},
   "outputs": [],
   "source": [
    "## splitting the audio file\n",
    "id = []\n",
    "for i in audio.audio_id.unique():\n",
    "    id.append(i)\n",
    "    \n",
    "for j in id:\n",
    "    audio_split = audio.loc[audio.audio_id == j]\n",
    "    audio_split.to_csv(str(j)+'.csv')\n",
    "    \n",
    "os.chdir(r\"C:\\Users\\Ujjwal Singh\\Desktop\\Pandas\\audio_split)\n",
    "for file in (glob.glob('*.csv')):\n",
    "    data = pd.read_csv(file,delimiter=';')"
   ]
  },
  {
   "cell_type": "markdown",
   "metadata": {},
   "source": [
    "### Missing files in audio folder"
   ]
  },
  {
   "cell_type": "code",
   "execution_count": null,
   "metadata": {},
   "outputs": [],
   "source": [
    "## find missing files in audio and converting to right format of audio_split\n",
    "os.chdir(r\"C:\\Ujjwal Documents\\Courses Fall 2018\\Independent Study\\ffmpeg\\missing_audios\\audio\")\n",
    "for file in (glob.glob('*PARMS.csv')):\n",
    "    data = pd.read_csv(file,delimiter=';')\n",
    "    os.chdir(r\"C:\\Ujjwal Documents\\Courses Fall 2018\\Independent Study\\ffmpeg\\missing_audios\\finalist\")\n",
    "    #cleaning column names and spaces\n",
    "    for i in data.columns:\n",
    "        #print(i)\n",
    "        x = re.sub(r'[^A-Za-z0-9]','', i)\n",
    "        data.rename(columns = {i: x}, inplace=True)\n",
    "    data.rename(columns = {'StartPosSec' :'start', 'EndPosSec' : 'end'}, inplace=True)\n",
    "    id = re.sub(r'[^0-9]', '', file)[:6]\n",
    "    data['audio_id'] = str(id)\n",
    "    data.drop(columns=[''], axis=1, inplace=True)\n",
    "    data.to_csv(str(id)+'.csv')\n",
    "    os.chdir(r\"C:\\Ujjwal Documents\\Courses Fall 2018\\Independent Study\\ffmpeg\\missing_audios\\audio\")"
   ]
  },
  {
   "cell_type": "code",
   "execution_count": null,
   "metadata": {},
   "outputs": [],
   "source": [
    "x=[]\n",
    "os.chdir(r\"C:\\Users\\Ujjwal Singh\\Desktop\\Pandas\\audio_split\")\n",
    "for file in (glob.glob('*.csv')):\n",
    "    x.append(int(file[0:6]))\n",
    "    \n",
    "mis=[]\n",
    "for i in video.video_id.unique():\n",
    "    if i not in x:\n",
    "        mis.append(i)\n",
    "    else:\n",
    "        pass"
   ]
  },
  {
   "cell_type": "markdown",
   "metadata": {},
   "source": [
    "### merging audio and video data based on conditions - 1 & 2"
   ]
  },
  {
   "cell_type": "code",
   "execution_count": null,
   "metadata": {},
   "outputs": [],
   "source": [
    "#merging audio and video\n",
    "finalDF = pd.DataFrame()\n",
    "for index,row in video.iterrows():\n",
    "    #if (index>5665555): #last index of file\n",
    "        video_df = pd.DataFrame()\n",
    "        video_df = video_df.append(row)\n",
    "        os.chdir(r'C:\\Users\\ujjwa\\Downloads\\Independent Study - Python Codes\\audio files')\n",
    "        for file in (glob.glob(str(row.video_id)+'.csv')):\n",
    "            audio = pd.read_csv(file)\n",
    "            audio.drop(columns = ['Unnamed: 0'], axis = 1, inplace=True)\n",
    "            audio_df = audio.loc[((audio.start<=row.time) & (audio.end>=row.time))]\n",
    "            finalDF = finalDF.append(pd.merge(video_df,audio_df, left_on='video_id', right_on='audio_id', how='left'))\n",
    "        if (len(finalDF) == len(video.loc[video.video_id == row.video_id])):\n",
    "            os.chdir(r'C:\\Users\\ujjwa\\Downloads\\Independent Study - Python Codes\\old tech')\n",
    "            finalDF.to_csv(str(index)+'_'+str(row.video_id)+'.csv')\n",
    "            finalDF = pd.DataFrame()"
   ]
  },
  {
   "cell_type": "code",
   "execution_count": null,
   "metadata": {},
   "outputs": [],
   "source": [
    "#merging audio and video\n",
    "#miss = [560156]\n",
    "for id in miss:\n",
    "    finalDF = pd.DataFrame()\n",
    "    os.chdir(r'C:\\Users\\ujjwa\\Downloads\\Independent Study - Python Codes\\video split')\n",
    "    video = pd.read_csv(glob.glob(str(id)+'.csv')[0])\n",
    "    video.drop(columns = ['Unnamed: 0', 'Unnamed: 0.1'], axis = 1, inplace=True)\n",
    "    os.chdir(r'C:\\Users\\ujjwa\\Downloads\\Independent Study - Python Codes\\audio files')\n",
    "    for file in (glob.glob(str(id)+'.csv')):\n",
    "        audio = pd.read_csv(file)\n",
    "        audio.drop(columns = ['Unnamed: 0'], axis = 1, inplace=True)\n",
    "        for index,row in video.iterrows():\n",
    "            video_df = pd.DataFrame()\n",
    "            video_df = video_df.append(row)\n",
    "            audio_df = audio.loc[((audio.start<=row.time) & (audio.end>=row.time))]\n",
    "            finalDF = finalDF.append(pd.merge(video_df,audio_df, left_on='video_id', right_on='audio_id', how='left'))\n",
    "        if(len(finalDF) == len(video)):\n",
    "            os.chdir(r'C:\\Users\\ujjwa\\Downloads\\Independent Study - Python Codes\\miss id')\n",
    "            finalDF.to_csv(str(id)+'.csv')\n",
    "            finalDF = pd.DataFrame()"
   ]
  },
  {
   "cell_type": "markdown",
   "metadata": {},
   "source": [
    "### Final code for concatenating split files"
   ]
  },
  {
   "cell_type": "code",
   "execution_count": null,
   "metadata": {},
   "outputs": [],
   "source": [
    "## Concatenate all split files generated into one single file.\n",
    "output = pd.DataFrame()\n",
    "file_missed = []\n",
    "os.chdir(r\"C:\\Users\\Ujjwal Singh\\Desktop\\Pandas\\video_audio_merge\")\n",
    "for file in (glob.glob('*.csv')):\n",
    "    content = pd.read_csv(file, delimiter=',', low_memory=False)\n",
    "    #if any file contains a column 'Unnamed', find the index and drop before merging\n",
    "    if content.columns.str.contains('Unnamed').sum() >= 1:\n",
    "        #return index of True\n",
    "        check = [i for i,x in enumerate(list(content.columns.str.contains('Unnamed'))) if x]\n",
    "        #returns columns values to be dropped.\n",
    "        col = content.columns[check]\n",
    "        content.drop(columns=col, axis=1, inplace=True)\n",
    "    if len(content.columns) == 113:\n",
    "            output = output.append(content, sort='None')\n",
    "    else:\n",
    "        file_missed.append(file)\n",
    "        pass"
   ]
  }
 ],
 "metadata": {
  "kernelspec": {
   "display_name": "Python 3",
   "language": "python",
   "name": "python3"
  },
  "language_info": {
   "codemirror_mode": {
    "name": "ipython",
    "version": 3
   },
   "file_extension": ".py",
   "mimetype": "text/x-python",
   "name": "python",
   "nbconvert_exporter": "python",
   "pygments_lexer": "ipython3",
   "version": "3.7.0"
  }
 },
 "nbformat": 4,
 "nbformat_minor": 2
}
